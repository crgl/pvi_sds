{
 "cells": [
  {
   "cell_type": "markdown",
   "id": "6dc8132a-b9cc-413e-bdfc-900f5b4c4a52",
   "metadata": {},
   "source": [
    "# Visualization"
   ]
  },
  {
   "cell_type": "code",
   "execution_count": 7,
   "id": "7ab96fa2-d79c-4599-b512-a421c78cc604",
   "metadata": {},
   "outputs": [],
   "source": [
    "import numpy as np\n",
    "import pandas as pd\n",
    "from matplotlib import pyplot as plt\n",
    "import seaborn as sns\n",
    "from scipy import stats\n",
    "from IPython.display import IFrame"
   ]
  },
  {
   "cell_type": "code",
   "execution_count": 15,
   "id": "afd5ec8b-73c7-486e-ae19-8b65404e8c2b",
   "metadata": {},
   "outputs": [
    {
     "data": {
      "text/html": [
       "\n",
       "        <iframe\n",
       "            width=\"75%\"\n",
       "            height=\"597\"\n",
       "            src=\"https://observablehq.com/embed/@jrus/munsell-spin?cells=spinning_picture\"\n",
       "            frameborder=\"0\"\n",
       "            allowfullscreen\n",
       "        ></iframe>\n",
       "        "
      ],
      "text/plain": [
       "<IPython.lib.display.IFrame at 0x1ad22f2d310>"
      ]
     },
     "execution_count": 15,
     "metadata": {},
     "output_type": "execute_result"
    }
   ],
   "source": [
    "IFrame(\"https://observablehq.com/embed/@jrus/munsell-spin?cells=spinning_picture\", width=\"75%\", height=\"597\")"
   ]
  },
  {
   "cell_type": "code",
   "execution_count": 6,
   "id": "4ecc5667-8255-4112-b8af-2d39dc70d993",
   "metadata": {},
   "outputs": [
    {
     "data": {
      "text/html": [
       "\n",
       "        <iframe\n",
       "            width=\"100%\"\n",
       "            height=\"584\"\n",
       "            src=\"https://observablehq.com/embed/@pierreleripoll/how-to-visualize-periodic-signals?cells=teaserPeriodicViz\"\n",
       "            frameborder=\"0\"\n",
       "            allowfullscreen\n",
       "        ></iframe>\n",
       "        "
      ],
      "text/plain": [
       "<IPython.lib.display.IFrame at 0x1ad1e1054f0>"
      ]
     },
     "execution_count": 6,
     "metadata": {},
     "output_type": "execute_result"
    }
   ],
   "source": [
    "IFrame(\"https://observablehq.com/embed/@pierreleripoll/how-to-visualize-periodic-signals?cells=teaserPeriodicViz\", width=\"100%\", height=\"584\")"
   ]
  },
  {
   "cell_type": "code",
   "execution_count": null,
   "id": "bedd18a0-9620-4b1f-a5ea-b781fdaeacf7",
   "metadata": {},
   "outputs": [],
   "source": []
  }
 ],
 "metadata": {
  "kernelspec": {
   "display_name": "Python 3",
   "language": "python",
   "name": "python3"
  },
  "language_info": {
   "codemirror_mode": {
    "name": "ipython",
    "version": 3
   },
   "file_extension": ".py",
   "mimetype": "text/x-python",
   "name": "python",
   "nbconvert_exporter": "python",
   "pygments_lexer": "ipython3",
   "version": "3.9.5"
  }
 },
 "nbformat": 4,
 "nbformat_minor": 5
}
