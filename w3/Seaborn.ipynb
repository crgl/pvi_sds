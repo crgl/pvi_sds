{
 "cells": [
  {
   "cell_type": "markdown",
   "id": "6dc8132a-b9cc-413e-bdfc-900f5b4c4a52",
   "metadata": {},
   "source": [
    "# Visualization"
   ]
  },
  {
   "cell_type": "code",
   "execution_count": null,
   "id": "7ab96fa2-d79c-4599-b512-a421c78cc604",
   "metadata": {},
   "outputs": [],
   "source": [
    "import numpy as np\n",
    "import pandas as pd\n",
    "from matplotlib import pyplot as plt\n",
    "import seaborn as sns\n",
    "from IPython.display import IFrame\n",
    "\n",
    "from scipy import stats\n",
    "import statsmodels.api as sm\n",
    "import statsmodels.formula.api as smf\n"
   ]
  },
  {
   "cell_type": "code",
   "execution_count": null,
   "id": "afd5ec8b-73c7-486e-ae19-8b65404e8c2b",
   "metadata": {},
   "outputs": [],
   "source": [
    "IFrame(\"https://observablehq.com/embed/@jrus/munsell-spin?cells=spinning_picture\", width=\"75%\", height=\"597\")"
   ]
  },
  {
   "cell_type": "code",
   "execution_count": null,
   "id": "4ecc5667-8255-4112-b8af-2d39dc70d993",
   "metadata": {},
   "outputs": [],
   "source": [
    "IFrame(\"https://observablehq.com/embed/@pierreleripoll/how-to-visualize-periodic-signals?cells=teaserPeriodicViz\", width=\"100%\", height=\"584\")"
   ]
  },
  {
   "cell_type": "code",
   "execution_count": null,
   "id": "4206bf15-6383-461a-9298-77ce1acd1436",
   "metadata": {},
   "outputs": [],
   "source": []
  },
  {
   "cell_type": "code",
   "execution_count": null,
   "id": "aa267982-d95d-4ef5-b10d-ea1043ee5949",
   "metadata": {},
   "outputs": [],
   "source": [
    "sns.get_dataset_names()"
   ]
  },
  {
   "cell_type": "code",
   "execution_count": null,
   "id": "bedd18a0-9620-4b1f-a5ea-b781fdaeacf7",
   "metadata": {},
   "outputs": [],
   "source": [
    "penguins = sns.load_dataset('penguins')\n",
    "penguins.head()"
   ]
  },
  {
   "cell_type": "code",
   "execution_count": null,
   "id": "e1f5aed3-bd43-4b7e-8f0e-34c897fc78c3",
   "metadata": {},
   "outputs": [],
   "source": [
    "anscombe = sns.load_dataset('anscombe')\n",
    "anscombe.head()"
   ]
  },
  {
   "cell_type": "code",
   "execution_count": null,
   "id": "37c0d89f-7d62-44b4-b4e6-c1a0fc41cf0e",
   "metadata": {},
   "outputs": [],
   "source": [
    "exercise = sns.load_dataset('exercise').set_index('Unnamed: 0')\n",
    "exercise.head()"
   ]
  },
  {
   "cell_type": "code",
   "execution_count": null,
   "id": "e7ba8876-c4f7-409b-bbf3-9aa6a0da8a71",
   "metadata": {},
   "outputs": [],
   "source": [
    "diamonds = sns.load_dataset('diamonds')\n",
    "diamonds.head()"
   ]
  },
  {
   "cell_type": "code",
   "execution_count": null,
   "id": "c4ae9e54-8f45-4c27-9515-12fdbae75196",
   "metadata": {},
   "outputs": [],
   "source": [
    "mpg = sns.load_dataset('mpg')\n",
    "mpg.head()"
   ]
  },
  {
   "cell_type": "markdown",
   "id": "45396ca5-a156-4f66-bfc6-f58cd806371e",
   "metadata": {},
   "source": [
    "## Relational"
   ]
  },
  {
   "cell_type": "code",
   "execution_count": null,
   "id": "3c0edefa-bfc1-487c-b7ac-1665a3bec35e",
   "metadata": {},
   "outputs": [],
   "source": [
    "sns.relplot(data=mpg, x='model_year', y='mpg')"
   ]
  },
  {
   "cell_type": "code",
   "execution_count": null,
   "id": "9c4d26fe-d6aa-4f2b-8df5-d457ac5e68d8",
   "metadata": {
    "tags": []
   },
   "outputs": [],
   "source": [
    "sns.relplot(data=mpg, x='model_year', y='mpg', kind='line')"
   ]
  },
  {
   "cell_type": "code",
   "execution_count": null,
   "id": "404a70d0-4095-49cd-b62f-4ca858192a0c",
   "metadata": {
    "tags": []
   },
   "outputs": [],
   "source": [
    "sns.relplot(data=mpg, x='model_year', y='mpg', hue='cylinders')"
   ]
  },
  {
   "cell_type": "code",
   "execution_count": null,
   "id": "1b9aea7a-be56-4eec-9f7f-60befb2af7e5",
   "metadata": {},
   "outputs": [],
   "source": [
    "sns.relplot(data=mpg, x='model_year', y='mpg')\n",
    "sns.relplot(data=mpg, x='model_year', y='mpg', kind='line')"
   ]
  },
  {
   "cell_type": "code",
   "execution_count": null,
   "id": "dbe7f2b1-1534-4d94-bb76-62f6b66af5ef",
   "metadata": {},
   "outputs": [],
   "source": [
    "fig, ax = plt.subplots()\n",
    "\n",
    "sns.scatterplot(data=mpg, x='model_year', y='mpg')\n",
    "sns.lineplot(data=mpg, x='model_year', y='mpg')\n",
    "\n",
    "fig.set_size_inches(12,8)\n",
    "\n",
    "plt.show()"
   ]
  },
  {
   "cell_type": "code",
   "execution_count": null,
   "id": "30491584-61ea-4de8-9a13-c467e7082555",
   "metadata": {},
   "outputs": [],
   "source": [
    "fig, axes = plt.subplots(1,2)\n",
    "\n",
    "sns.lineplot(data=mpg, x='model_year', y='mpg', ax=axes[0])\n",
    "sns.lineplot(data=mpg, x='model_year', y='weight', ax=axes[1], color=sns.color_palette()[9])\n",
    "\n",
    "fig.set_size_inches(12,8)\n",
    "\n",
    "plt.show()"
   ]
  },
  {
   "cell_type": "markdown",
   "id": "3eac54ce-555b-4323-9218-1c666f1288bf",
   "metadata": {
    "tags": []
   },
   "source": [
    "## Distribution"
   ]
  },
  {
   "cell_type": "code",
   "execution_count": null,
   "id": "737199f1-8191-4c8d-901a-2128dcc5fe4a",
   "metadata": {},
   "outputs": [],
   "source": [
    "sns.pairplot(diamonds)"
   ]
  },
  {
   "cell_type": "code",
   "execution_count": null,
   "id": "6dca3c62-00b5-42ce-8f9d-1895d4495abf",
   "metadata": {},
   "outputs": [],
   "source": [
    "sns.pairplot(penguins, hue='species')"
   ]
  },
  {
   "cell_type": "code",
   "execution_count": null,
   "id": "f11fe233-ad49-404b-b2de-d78e789a988e",
   "metadata": {},
   "outputs": [],
   "source": [
    "sns.pairplot(penguins, hue='species', kind='kde')"
   ]
  },
  {
   "cell_type": "code",
   "execution_count": null,
   "id": "c44bb3df-e06f-41d7-bc1e-23efa07b0392",
   "metadata": {},
   "outputs": [],
   "source": [
    "sns.displot(data=diamonds, x='price', col='cut', col_wrap=3)"
   ]
  },
  {
   "cell_type": "code",
   "execution_count": null,
   "id": "b83e619c-b54c-432a-af6a-c19282c08b9a",
   "metadata": {},
   "outputs": [],
   "source": [
    "sns.displot(data=diamonds, x='price', col='cut', col_wrap=3, hue='clarity', kind='kde')"
   ]
  },
  {
   "cell_type": "markdown",
   "id": "f1111322-d073-40ba-bac1-1fb462ea10d1",
   "metadata": {},
   "source": [
    "## Categorical"
   ]
  },
  {
   "cell_type": "code",
   "execution_count": null,
   "id": "d73eeba2-a1b2-4e82-9ec8-0e3cd341a000",
   "metadata": {},
   "outputs": [],
   "source": [
    "exercise.head()"
   ]
  },
  {
   "cell_type": "code",
   "execution_count": null,
   "id": "2026c031-9742-4a4f-a640-ead2a0370cdd",
   "metadata": {},
   "outputs": [],
   "source": [
    "sns.catplot(data=exercise, x='time', y='pulse')"
   ]
  },
  {
   "cell_type": "code",
   "execution_count": null,
   "id": "3d5039ca-185d-41c5-868c-24d6754068c1",
   "metadata": {},
   "outputs": [],
   "source": [
    "sns.catplot(data=exercise, x='time', y='pulse', hue='kind')"
   ]
  },
  {
   "cell_type": "code",
   "execution_count": null,
   "id": "8af54058-2bf6-4365-8cf2-0f2e4fc39bcc",
   "metadata": {},
   "outputs": [],
   "source": [
    "sns.catplot(data=exercise, x='time', y='pulse', hue='kind', dodge=True)"
   ]
  },
  {
   "cell_type": "code",
   "execution_count": null,
   "id": "71a648e8-dcf3-4ea8-a6df-1b0397ddd977",
   "metadata": {},
   "outputs": [],
   "source": [
    "sns.relplot(data=exercise, x='time', y='pulse')"
   ]
  },
  {
   "cell_type": "code",
   "execution_count": null,
   "id": "ebef5b1d-cce1-468f-830c-50db6feeb806",
   "metadata": {},
   "outputs": [],
   "source": [
    "sns.relplot(data=exercise, x='time', y='pulse', kind='line', hue='kind')"
   ]
  },
  {
   "cell_type": "code",
   "execution_count": null,
   "id": "6277ae78-5daa-48a3-be68-8761650633d2",
   "metadata": {},
   "outputs": [],
   "source": [
    "mpg.head()"
   ]
  },
  {
   "cell_type": "code",
   "execution_count": null,
   "id": "69cca8b2-2b9c-4d8b-b012-ed93620b6645",
   "metadata": {},
   "outputs": [],
   "source": [
    "sns.catplot(data=mpg, x='cylinders', y='mpg')"
   ]
  },
  {
   "cell_type": "code",
   "execution_count": null,
   "id": "30ad8695-f218-4cec-b610-003b96151db7",
   "metadata": {},
   "outputs": [],
   "source": [
    "sns.catplot(data=mpg, x='cylinders', y='mpg', col='origin')"
   ]
  },
  {
   "cell_type": "code",
   "execution_count": null,
   "id": "f752a6f0-3ad7-41be-93eb-27f21f93a66b",
   "metadata": {},
   "outputs": [],
   "source": [
    "sns.catplot(data=mpg, x='cylinders', y='mpg', col='origin', kind='swarm')"
   ]
  },
  {
   "cell_type": "code",
   "execution_count": null,
   "id": "eebb5666-a3af-4b8c-9daa-5418e4dfc35c",
   "metadata": {},
   "outputs": [],
   "source": [
    "sns.catplot(data=mpg, x='cylinders', y='mpg', col='origin', kind='swarm', s=2)"
   ]
  },
  {
   "cell_type": "code",
   "execution_count": null,
   "id": "02a3eb6e-3f4b-45f2-9c93-8e211a4e775a",
   "metadata": {},
   "outputs": [],
   "source": [
    "def filter_cylinders(cyl_count):\n",
    "    return cyl_count in [4, 6, 8]"
   ]
  },
  {
   "cell_type": "code",
   "execution_count": null,
   "id": "ac17d6ac-4b6c-4edb-b7ad-610ddd27f728",
   "metadata": {},
   "outputs": [],
   "source": [
    "plot_df = mpg[mpg['cylinders'].apply(filter_cylinders)]\n",
    "\n",
    "sns.catplot(data=plot_df, x='cylinders', y='mpg', col='origin', kind='swarm', s=4)"
   ]
  },
  {
   "cell_type": "code",
   "execution_count": null,
   "id": "89d71d2b-338e-4710-90cc-cd8a259c562f",
   "metadata": {},
   "outputs": [],
   "source": [
    "plot_df = mpg[mpg['cylinders'].apply(filter_cylinders)]\n",
    "\n",
    "sns.catplot(data=plot_df, x='cylinders', y='mpg', col='origin', kind='box')"
   ]
  },
  {
   "cell_type": "code",
   "execution_count": null,
   "id": "78cfa86a-f39e-47b4-bd1b-564dbf2a05a0",
   "metadata": {},
   "outputs": [],
   "source": [
    "plot_df = mpg[mpg['cylinders'].apply(filter_cylinders)]\n",
    "\n",
    "sns.catplot(data=plot_df, x='cylinders', y='mpg', col='origin', kind='boxen')"
   ]
  },
  {
   "cell_type": "code",
   "execution_count": null,
   "id": "fa83d39b-c723-475c-b31e-a84fb49991d1",
   "metadata": {},
   "outputs": [],
   "source": [
    "plot_df = mpg[mpg['cylinders'].apply(filter_cylinders)]\n",
    "\n",
    "sns.catplot(data=plot_df, x='cylinders', y='mpg', col='origin', kind='violin')"
   ]
  },
  {
   "cell_type": "code",
   "execution_count": null,
   "id": "f6e17990-5b1c-4ab6-a791-579dc42737be",
   "metadata": {},
   "outputs": [],
   "source": [
    "plot_df = mpg[mpg['cylinders'].apply(filter_cylinders)]\n",
    "\n",
    "fig, axes = plt.subplots(1, 3, sharex=True, sharey=True)\n",
    "\n",
    "for i, origin in enumerate(plot_df['origin'].unique()[::-1]):\n",
    "    ax = axes[i]\n",
    "    ax.set_title(origin)\n",
    "    local_df = plot_df[plot_df['origin'] == origin]\n",
    "    sns.stripplot(data=local_df, x='cylinders', y='mpg', ax=ax)\n",
    "    sns.boxplot(data=local_df, x='cylinders', y='mpg', ax=ax, boxprops={'alpha': 0.3})\n",
    "\n",
    "fig.set_size_inches(14,8)\n",
    "plt.show()\n",
    "    "
   ]
  },
  {
   "cell_type": "markdown",
   "id": "44f155d6-90a3-405e-9407-05bd5d742daf",
   "metadata": {},
   "source": [
    "## Regression"
   ]
  },
  {
   "cell_type": "code",
   "execution_count": null,
   "id": "8ff08c94-fbaa-4de3-b28a-dd313191b979",
   "metadata": {},
   "outputs": [],
   "source": [
    "sns.lmplot(data=penguins, x='bill_length_mm', y='bill_depth_mm', hue='species')"
   ]
  },
  {
   "cell_type": "code",
   "execution_count": null,
   "id": "4ebecccd-e10f-4aa0-95fc-7cd02fc10b6c",
   "metadata": {},
   "outputs": [],
   "source": [
    "penguins_1h = penguins.join(pd.get_dummies(penguins['species'])).dropna()\n",
    "penguins_1h.head()"
   ]
  },
  {
   "cell_type": "code",
   "execution_count": null,
   "id": "702aa19c-c187-4a61-a727-f9e24cb59dd0",
   "metadata": {},
   "outputs": [],
   "source": [
    "md = sm.OLS(penguins_1h['bill_depth_mm'], sm.add_constant(penguins_1h.loc[:, ['bill_length_mm', 'Chinstrap', 'Gentoo']]))\n",
    "mdf = md.fit()\n",
    "mdf.summary()"
   ]
  },
  {
   "cell_type": "code",
   "execution_count": null,
   "id": "d4573e26-7b3c-499f-a85a-a9e34dee2db6",
   "metadata": {},
   "outputs": [],
   "source": [
    "fit_df = penguins.dropna()\n",
    "\n",
    "md2 = smf.mixedlm(\"bill_depth_mm ~ bill_length_mm\", fit_df, groups=fit_df['species'])\n",
    "\n",
    "mdf2 = md2.fit()\n",
    "\n",
    "mdf2.summary()"
   ]
  },
  {
   "cell_type": "code",
   "execution_count": null,
   "id": "adebc7e6-7326-464d-8e7e-7cbb9699be98",
   "metadata": {},
   "outputs": [],
   "source": [
    "for species in penguins['species'].unique():\n",
    "    fit_df = penguins[penguins['species'] == species].dropna()\n",
    "    ols = stats.linregress(fit_df['bill_length_mm'], fit_df['bill_depth_mm'])\n",
    "    print(\"Slope for\", species, \":\", ols.slope, \"(standard error:\", ols.stderr, \")\")"
   ]
  },
  {
   "cell_type": "markdown",
   "id": "75a259a2-7f96-45e7-8585-2e6e7eed452c",
   "metadata": {},
   "source": [
    "### Doing it wrong: Islands as a facet"
   ]
  },
  {
   "cell_type": "code",
   "execution_count": null,
   "id": "9a434ad2-7294-4639-a85c-9a0dd9da2789",
   "metadata": {},
   "outputs": [],
   "source": [
    "sns.lmplot(data=penguins, x='bill_length_mm', y='bill_depth_mm', hue='island')"
   ]
  },
  {
   "cell_type": "code",
   "execution_count": null,
   "id": "5796a5f4-4483-442e-a4bb-231268961f12",
   "metadata": {},
   "outputs": [],
   "source": [
    "sns.lmplot(data=penguins, x='bill_length_mm', y='bill_depth_mm', col='island', hue='island')"
   ]
  },
  {
   "cell_type": "code",
   "execution_count": null,
   "id": "e9ed01d2-bc10-4b0a-b945-50101b67395c",
   "metadata": {},
   "outputs": [],
   "source": [
    "sns.lmplot(data=penguins, x='bill_length_mm', y='bill_depth_mm', col='island', hue='species')"
   ]
  },
  {
   "cell_type": "code",
   "execution_count": null,
   "id": "b0456f2c-3823-4560-a71d-1b7f627641af",
   "metadata": {},
   "outputs": [],
   "source": [
    "plot_df = penguins.dropna(subset=['sex'], how='any')\n",
    "\n",
    "colors = sns.color_palette()[:3]\n",
    "columns = plot_df['species'].unique()\n",
    "rows = plot_df['sex'].unique()\n",
    "\n",
    "g = sns.FacetGrid(penguins, col=\"species\",  row=\"sex\", hue='species', palette=colors, col_order=columns, row_order=rows, hue_order=columns)\n",
    "\n",
    "g.map_dataframe(sns.scatterplot, x='bill_length_mm', y='bill_depth_mm')\n",
    "\n",
    "g.fig.set_size_inches(12,8)\n",
    "\n",
    "plt.show()"
   ]
  },
  {
   "cell_type": "code",
   "execution_count": null,
   "id": "0bfa44df-7df5-42c2-9cf9-9e0e6bc5e26d",
   "metadata": {},
   "outputs": [],
   "source": [
    "anscombe.head()"
   ]
  },
  {
   "cell_type": "code",
   "execution_count": null,
   "id": "3071c25f-4f61-4b5e-b93b-a86cf5253292",
   "metadata": {},
   "outputs": [],
   "source": [
    "sns.lmplot(data=anscombe, x='x', y='y', col='dataset', col_wrap=2, ci=None)"
   ]
  },
  {
   "cell_type": "code",
   "execution_count": null,
   "id": "870ddba3-adc3-4576-b10f-a5d29f52063b",
   "metadata": {},
   "outputs": [],
   "source": [
    "sns.lmplot(data=anscombe, x='x', y='y', col='dataset', col_wrap=2)"
   ]
  },
  {
   "cell_type": "code",
   "execution_count": null,
   "id": "5f0ccc13-6864-4cc5-89d8-5c1c84c7ec42",
   "metadata": {},
   "outputs": [],
   "source": [
    "sns.lmplot(data=anscombe, x='x', y='y', col='dataset', col_wrap=2, robust=True)"
   ]
  },
  {
   "cell_type": "code",
   "execution_count": null,
   "id": "e510240c-df52-424a-af97-3d8da92bba07",
   "metadata": {},
   "outputs": [],
   "source": [
    "sns.lmplot(data=anscombe, x='x', y='y', col='dataset', col_wrap=2, lowess=True)"
   ]
  },
  {
   "cell_type": "markdown",
   "id": "4a687b92-a188-4aa4-af1c-2d43f0d56667",
   "metadata": {},
   "source": [
    "## Custom"
   ]
  },
  {
   "cell_type": "code",
   "execution_count": null,
   "id": "a1ccf0cc-6675-446d-abc2-6d2f7ed257d7",
   "metadata": {},
   "outputs": [],
   "source": [
    "us = pd.read_csv(\"https://github.com/nytimes/covid-19-data/blob/master/us.csv?raw=true\", parse_dates=['date'])\n",
    "us_states = pd.read_csv(\"https://github.com/nytimes/covid-19-data/blob/master/us-states.csv?raw=true\", parse_dates=['date'])\n",
    "us_counties = pd.read_csv(\"https://github.com/nytimes/covid-19-data/blob/master/us-counties-recent.csv?raw=true\", parse_dates=['date'])"
   ]
  },
  {
   "cell_type": "code",
   "execution_count": null,
   "id": "16b66a89-3416-4c93-a30c-47eb87a43f37",
   "metadata": {},
   "outputs": [],
   "source": [
    "us_diff = us.set_index('date') - us.set_index('date').shift(1)\n",
    "us_diff.iloc[0, :] = us.iloc[0, 1:]\n",
    "us_diff"
   ]
  },
  {
   "cell_type": "code",
   "execution_count": null,
   "id": "259b5eae-cbcd-4a1f-98f7-62659836a024",
   "metadata": {},
   "outputs": [],
   "source": [
    "plot_df = us_diff.reset_index()\n",
    "sns.lineplot(data=us_diff, x='date', y='cases')"
   ]
  },
  {
   "cell_type": "code",
   "execution_count": null,
   "id": "1a871a82-d4ce-42ed-a955-1aa6685ab4a8",
   "metadata": {},
   "outputs": [],
   "source": [
    "fig, ax = plt.subplots()\n",
    "\n",
    "sns.lineplot(data=us_diff.rolling('14d').mean(), x='date', y='cases')\n",
    "\n",
    "fig.set_size_inches(12,8)\n",
    "plt.show()"
   ]
  },
  {
   "cell_type": "code",
   "execution_count": null,
   "id": "e496e470-974a-4951-b45f-dab15235f98e",
   "metadata": {},
   "outputs": [],
   "source": [
    "us_diff['weekday'] = us_diff.reset_index()['date'].apply(lambda val: val.weekday()).to_numpy()\n",
    "\n",
    "fig, ax = plt.subplots()\n",
    "\n",
    "sns.lineplot(data=us_diff, x='date', y='cases', hue='weekday')\n",
    "\n",
    "fig.set_size_inches(12,8)\n",
    "plt.show()"
   ]
  },
  {
   "cell_type": "code",
   "execution_count": null,
   "id": "b7aea7b8-9c8c-444b-9cd3-89ea9a999510",
   "metadata": {},
   "outputs": [],
   "source": [
    "def convert_weekday(number):\n",
    "    weekdays = ['Monday', 'Tuesday', 'Wednesday', 'Thursday', 'Friday', 'Saturday', 'Sunday']\n",
    "    return weekdays[number]"
   ]
  },
  {
   "cell_type": "code",
   "execution_count": null,
   "id": "b8a9e9cb-e0d1-4282-a353-56f1bb309107",
   "metadata": {},
   "outputs": [],
   "source": [
    "us_diff['weekday_str'] = us_diff['weekday'].apply(convert_weekday)\n",
    "\n",
    "fig, ax = plt.subplots()\n",
    "\n",
    "sns.lineplot(data=us_diff, x='date', y='cases', hue='weekday_str')\n",
    "\n",
    "fig.set_size_inches(12,8)\n",
    "plt.show()"
   ]
  },
  {
   "cell_type": "code",
   "execution_count": null,
   "id": "865dcbf3-6942-4d4e-915c-381f4ad018a7",
   "metadata": {},
   "outputs": [],
   "source": [
    "weekday_order = ['Monday', 'Tuesday', 'Wednesday', 'Thursday', 'Friday', 'Saturday', 'Sunday']\n",
    "\n",
    "\n",
    "fig, ax = plt.subplots()\n",
    "\n",
    "sns.lineplot(data=us_diff, x='date', y='cases', hue='weekday_str', hue_order=weekday_order)\n",
    "\n",
    "fig.set_size_inches(12,8)\n",
    "plt.show()"
   ]
  },
  {
   "cell_type": "markdown",
   "id": "74e18e1f-60ca-4084-90c0-3214e2a8d9b3",
   "metadata": {},
   "source": [
    "### Extras"
   ]
  },
  {
   "cell_type": "code",
   "execution_count": null,
   "id": "736a94d7-edf7-44a3-9d0d-ce8f4a0c7f2e",
   "metadata": {},
   "outputs": [],
   "source": [
    "# from sklearn.decomposition import PCA"
   ]
  },
  {
   "cell_type": "code",
   "execution_count": null,
   "id": "0d5640b5-491d-4816-8c6f-5c1febbabb4f",
   "metadata": {},
   "outputs": [],
   "source": [
    "# penguins"
   ]
  },
  {
   "cell_type": "code",
   "execution_count": null,
   "id": "3def0a81-0225-4dd7-8a9b-c9a6f042e161",
   "metadata": {},
   "outputs": [],
   "source": [
    "# augmented = penguins.dropna().copy()\n",
    "\n",
    "# pengs_dim_reduced = PCA(n_components=2).fit_transform(augmented.iloc[:, 2:6])\n",
    "# augmented['x'] = pengs_dim_reduced[:, 0]\n",
    "# augmented['y'] = pengs_dim_reduced[:, 1]\n",
    "# sns.relplot(data=augmented, x='x', y='y', hue='species')"
   ]
  }
 ],
 "metadata": {
  "kernelspec": {
   "display_name": "Python 3 (ipykernel)",
   "language": "python",
   "name": "python3"
  },
  "language_info": {
   "codemirror_mode": {
    "name": "ipython",
    "version": 3
   },
   "file_extension": ".py",
   "mimetype": "text/x-python",
   "name": "python",
   "nbconvert_exporter": "python",
   "pygments_lexer": "ipython3",
   "version": "3.8.12"
  }
 },
 "nbformat": 4,
 "nbformat_minor": 5
}
