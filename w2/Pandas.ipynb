{
 "cells": [
  {
   "cell_type": "markdown",
   "id": "2959aeed-7210-4dba-bd9e-d93869842a4f",
   "metadata": {},
   "source": [
    "# Pandas\n",
    "\n",
    "To recap, this is Python:\n",
    "https://docs.python.org/3/index.html\n",
    "\n",
    "This is Pandas:\n",
    "https://pandas.pydata.org/docs/"
   ]
  },
  {
   "cell_type": "code",
   "execution_count": 1,
   "id": "67db642f-cc6b-420a-891f-8439c5082b47",
   "metadata": {},
   "outputs": [],
   "source": [
    "import numpy as np\n",
    "import pandas as pd\n",
    "import matplotlib.pyplot as plt\n",
    "from scipy import stats"
   ]
  },
  {
   "cell_type": "code",
   "execution_count": null,
   "id": "2f4a9064-1521-4a8e-979c-2ae3e0de537b",
   "metadata": {},
   "outputs": [],
   "source": []
  }
 ],
 "metadata": {
  "kernelspec": {
   "display_name": "Python 3 (ipykernel)",
   "language": "python",
   "name": "python3"
  },
  "language_info": {
   "codemirror_mode": {
    "name": "ipython",
    "version": 3
   },
   "file_extension": ".py",
   "mimetype": "text/x-python",
   "name": "python",
   "nbconvert_exporter": "python",
   "pygments_lexer": "ipython3",
   "version": "3.8.12"
  }
 },
 "nbformat": 4,
 "nbformat_minor": 5
}
