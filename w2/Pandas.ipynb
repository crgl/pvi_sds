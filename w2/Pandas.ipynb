{
 "cells": [
  {
   "cell_type": "markdown",
   "id": "2959aeed-7210-4dba-bd9e-d93869842a4f",
   "metadata": {},
   "source": [
    "# Pandas\n",
    "\n",
    "To recap, this is Python:\n",
    "https://docs.python.org/3/index.html\n",
    "\n",
    "For today, this is Pandas:\n",
    "https://pandas.pydata.org/docs/\n",
    "\n",
    "and this is the Pandas tutorial:\n",
    "https://pandas.pydata.org/docs/user_guide/10min.html"
   ]
  },
  {
   "cell_type": "code",
   "execution_count": null,
   "id": "67db642f-cc6b-420a-891f-8439c5082b47",
   "metadata": {},
   "outputs": [],
   "source": [
    "import numpy as np\n",
    "import pandas as pd\n",
    "import matplotlib.pyplot as plt\n",
    "from scipy import stats\n",
    "import seaborn as sns"
   ]
  },
  {
   "cell_type": "code",
   "execution_count": null,
   "id": "80f10fa0-d4bc-4d16-92b8-62ffd68ca8a3",
   "metadata": {},
   "outputs": [],
   "source": [
    "penguins = sns.load_dataset('penguins')"
   ]
  },
  {
   "cell_type": "code",
   "execution_count": null,
   "id": "d7b2b30f-0354-4dcc-81ba-4fd54b6a05c3",
   "metadata": {},
   "outputs": [],
   "source": [
    "penguins.head()"
   ]
  },
  {
   "cell_type": "markdown",
   "id": "bedaa7ea-6670-4857-9bcb-5b194983bc44",
   "metadata": {},
   "source": [
    "Arrays in numpy (and pandas) are in row-major order. This means that when you're indexing, you should put in the row name or number and then the column name or number. When you get the shape of a dataframe, it will put the number of rows before the number of columns:"
   ]
  },
  {
   "cell_type": "code",
   "execution_count": null,
   "id": "f60a1020-fbbd-40c1-b223-4b29c87c5b26",
   "metadata": {},
   "outputs": [],
   "source": [
    "penguins.shape"
   ]
  },
  {
   "cell_type": "code",
   "execution_count": null,
   "id": "0b5a4373-4464-4945-bc65-81e49cf47189",
   "metadata": {},
   "outputs": [],
   "source": [
    "print(\"Number of rows:\", penguins.shape[0])\n",
    "print(\"Number of columns:\", penguins.shape[1])"
   ]
  },
  {
   "cell_type": "code",
   "execution_count": null,
   "id": "8c882004-2898-40bb-812a-7d06635f6497",
   "metadata": {},
   "outputs": [],
   "source": [
    "penguins['species']"
   ]
  },
  {
   "cell_type": "code",
   "execution_count": null,
   "id": "260d5c66-4bd4-46a1-8423-b025cb5e3b8d",
   "metadata": {},
   "outputs": [],
   "source": [
    "penguins.iloc[0, 1]"
   ]
  },
  {
   "cell_type": "code",
   "execution_count": null,
   "id": "c2fc13d8-9614-43a8-af92-6ad06cdf7c9e",
   "metadata": {},
   "outputs": [],
   "source": [
    "penguins.iloc[1, 0]"
   ]
  },
  {
   "cell_type": "code",
   "execution_count": null,
   "id": "b6023b93-2a21-4f6b-af89-fb34d246506f",
   "metadata": {},
   "outputs": [],
   "source": [
    "penguins.loc[2, 'body_mass_g']"
   ]
  },
  {
   "cell_type": "code",
   "execution_count": null,
   "id": "01cb0f6b-3f4b-4db6-8a0f-0259b7fc338b",
   "metadata": {},
   "outputs": [],
   "source": [
    "penguins.loc[0]"
   ]
  },
  {
   "cell_type": "code",
   "execution_count": null,
   "id": "253ab899-9802-4321-86c8-4ad649f4123d",
   "metadata": {},
   "outputs": [],
   "source": [
    "penguins.loc[0, ['species', 'island']]"
   ]
  },
  {
   "cell_type": "code",
   "execution_count": null,
   "id": "50cbc20c-910e-495a-8d40-7d200d8afbd3",
   "metadata": {},
   "outputs": [],
   "source": [
    "penguins.iloc[0, 0:2]"
   ]
  },
  {
   "cell_type": "code",
   "execution_count": null,
   "id": "dcbe8586-4918-4ce9-ae7d-c835ca5e1df5",
   "metadata": {},
   "outputs": [],
   "source": [
    "penguins.iloc[0, :2]"
   ]
  },
  {
   "cell_type": "code",
   "execution_count": null,
   "id": "392b0ff7-7ff5-4ab4-85da-c7e785b3c2c6",
   "metadata": {},
   "outputs": [],
   "source": [
    "penguins.iloc[0, :]"
   ]
  },
  {
   "cell_type": "code",
   "execution_count": null,
   "id": "47c9e9f6-4681-475e-9c94-972136b7368d",
   "metadata": {},
   "outputs": [],
   "source": [
    "penguins.iloc[40:50, :]"
   ]
  },
  {
   "cell_type": "code",
   "execution_count": null,
   "id": "d0e0c709-2987-47ce-aec2-fc075eac73f8",
   "metadata": {},
   "outputs": [],
   "source": [
    "penguins.head(50).tail(10)"
   ]
  },
  {
   "cell_type": "code",
   "execution_count": null,
   "id": "65d5ed7e-4089-4470-a668-637d13d9894e",
   "metadata": {},
   "outputs": [],
   "source": [
    "penguins.describe()"
   ]
  },
  {
   "cell_type": "code",
   "execution_count": null,
   "id": "312e1afb-fb1d-4a09-a352-dfb9f6765cf1",
   "metadata": {},
   "outputs": [],
   "source": [
    "penguins.dropna(how='all')"
   ]
  },
  {
   "cell_type": "code",
   "execution_count": null,
   "id": "3251d761-643b-4a6e-8f5a-95b5626638d8",
   "metadata": {},
   "outputs": [],
   "source": [
    "penguins.dropna(how='any')"
   ]
  },
  {
   "cell_type": "code",
   "execution_count": null,
   "id": "bf768c5a-a72d-4dc6-9fd7-ccff7a3937bf",
   "metadata": {},
   "outputs": [],
   "source": [
    "penguins.dropna(subset=penguins.columns[:-1], how='any')"
   ]
  },
  {
   "cell_type": "code",
   "execution_count": null,
   "id": "2a4da6e4-0210-434b-84b3-d8f8f24443a1",
   "metadata": {},
   "outputs": [],
   "source": [
    "penguins.groupby('sex').mean()"
   ]
  },
  {
   "cell_type": "code",
   "execution_count": null,
   "id": "c67d607d-1fc6-4712-8e23-c887c2ad94d5",
   "metadata": {},
   "outputs": [],
   "source": [
    "penguins.groupby('sex').agg(['mean', 'std', 'median'])"
   ]
  },
  {
   "cell_type": "code",
   "execution_count": null,
   "id": "451edfe8-ac19-4264-8ba2-03055ef5249f",
   "metadata": {},
   "outputs": [],
   "source": [
    "penguins.groupby(['species', 'island']).count()"
   ]
  },
  {
   "cell_type": "code",
   "execution_count": null,
   "id": "e5cdec2f-5526-45b0-b564-363bfeaeb34d",
   "metadata": {},
   "outputs": [],
   "source": [
    "penguins.groupby(['island', 'species']).count()"
   ]
  },
  {
   "cell_type": "code",
   "execution_count": null,
   "id": "7d25c0ea-5969-4d2f-8591-3b79bdf88835",
   "metadata": {},
   "outputs": [],
   "source": [
    "penguins.groupby(['species', 'island']).mean()"
   ]
  },
  {
   "cell_type": "code",
   "execution_count": null,
   "id": "f70638b4-f411-42fa-89d1-02bc16fe6c76",
   "metadata": {},
   "outputs": [],
   "source": [
    "penguins[penguins['species'] == 'Gentoo']"
   ]
  },
  {
   "cell_type": "code",
   "execution_count": null,
   "id": "b9b0bf53-7df0-452b-82d4-f91a44bfe9d4",
   "metadata": {},
   "outputs": [],
   "source": [
    "penguins['species'] == 'Gentoo'"
   ]
  },
  {
   "cell_type": "code",
   "execution_count": null,
   "id": "3e3ff29f-cbd7-4cac-a18b-e03cd97619f4",
   "metadata": {},
   "outputs": [],
   "source": [
    "adelies = penguins[penguins['species'] == 'Gentoo']\n",
    "adelies.head()"
   ]
  },
  {
   "cell_type": "code",
   "execution_count": null,
   "id": "8f3c5e0b-8029-46d9-b393-bb0a2ec44a21",
   "metadata": {},
   "outputs": [],
   "source": [
    "species_filter = penguins['species'] == 'Adelie'\n",
    "island_filter = penguins['island'] == 'Dream'\n",
    "dream_adelies = penguins[species_filter & island_filter]\n",
    "dream_adelies.groupby(['species', 'island']).count()"
   ]
  },
  {
   "cell_type": "code",
   "execution_count": null,
   "id": "0a7cc95e-77d8-4454-bb1d-c107c9e1ba34",
   "metadata": {},
   "outputs": [],
   "source": [
    "dream_or_adelies = penguins[species_filter | island_filter]\n",
    "dream_or_adelies.groupby(['species', 'island']).count()"
   ]
  },
  {
   "cell_type": "code",
   "execution_count": null,
   "id": "36e52df9-a7c5-4c04-91bb-3f086edf39bb",
   "metadata": {},
   "outputs": [],
   "source": [
    "cleaned = penguins.dropna(how='any').copy()"
   ]
  },
  {
   "cell_type": "code",
   "execution_count": null,
   "id": "3408bd1d-a12d-4f82-9574-394c4cef93dc",
   "metadata": {},
   "outputs": [],
   "source": [
    "cleaned['bill_surface_mm2'] = cleaned['bill_length_mm'] * cleaned['bill_depth_mm'] * 3.14159\n",
    "cleaned.head()"
   ]
  },
  {
   "cell_type": "markdown",
   "id": "f6c16cd9-25ac-4214-8a48-2431184d8c18",
   "metadata": {},
   "source": [
    "## Penguin BMI\n",
    "\n",
    "Penguin BMI is an important indicator of health. The formula, as we all know, is body mass divided by the product of bill length and flipper length. Use the code cell below to calculate the average (mean) BMI of Adelie penguins on the island of Dream."
   ]
  },
  {
   "cell_type": "code",
   "execution_count": null,
   "id": "1d64fee1-ea18-42f0-96e1-c8b200533ecd",
   "metadata": {},
   "outputs": [],
   "source": []
  },
  {
   "cell_type": "markdown",
   "id": "d5df096e-c758-4ec3-9f74-9c714f0ee3d9",
   "metadata": {},
   "source": [
    "### Some quick plots"
   ]
  },
  {
   "cell_type": "code",
   "execution_count": null,
   "id": "44e5b723-2f4e-4bc8-886d-eedbaca07276",
   "metadata": {
    "tags": []
   },
   "outputs": [],
   "source": [
    "penguins.plot?"
   ]
  },
  {
   "cell_type": "code",
   "execution_count": null,
   "id": "c4c7f2f0-611b-43be-897e-a4fa71224299",
   "metadata": {},
   "outputs": [],
   "source": [
    "penguins.plot(x='bill_length_mm', y='bill_depth_mm', kind='scatter')"
   ]
  },
  {
   "cell_type": "code",
   "execution_count": null,
   "id": "147350ce-67bf-444f-a1b0-2ff93533ac6f",
   "metadata": {},
   "outputs": [],
   "source": [
    "penguins.plot(y='bill_length_mm', kind='kde')"
   ]
  },
  {
   "cell_type": "code",
   "execution_count": null,
   "id": "bac074ce-ed8b-4949-9f18-4028ff6190f0",
   "metadata": {},
   "outputs": [],
   "source": [
    "sns.regplot(data=penguins, x='bill_length_mm', y='bill_depth_mm')"
   ]
  },
  {
   "cell_type": "code",
   "execution_count": null,
   "id": "d89f05b2-8d01-4b05-84c5-0d9c1709d952",
   "metadata": {
    "tags": []
   },
   "outputs": [],
   "source": [
    "sns.lmplot(data=penguins, x='bill_length_mm', y='bill_depth_mm', hue='species')"
   ]
  },
  {
   "cell_type": "markdown",
   "id": "b80a0270-6212-4237-910f-3bd7c47a531e",
   "metadata": {},
   "source": [
    "## An Excel interlude"
   ]
  },
  {
   "cell_type": "code",
   "execution_count": null,
   "id": "2f4a9064-1521-4a8e-979c-2ae3e0de537b",
   "metadata": {},
   "outputs": [],
   "source": [
    "box = pd.read_excel('data/box.xlsx', sheet_name = 'Box1', header=None)\n",
    "box.head()"
   ]
  },
  {
   "cell_type": "code",
   "execution_count": null,
   "id": "0492f9f8-6170-461d-9769-62afd108bd0e",
   "metadata": {},
   "outputs": [],
   "source": [
    "box.melt()"
   ]
  },
  {
   "cell_type": "code",
   "execution_count": null,
   "id": "bbc5b0fd-bba9-434f-87e4-1203742ee710",
   "metadata": {},
   "outputs": [],
   "source": [
    "box.to_numpy().flatten()"
   ]
  },
  {
   "cell_type": "code",
   "execution_count": null,
   "id": "f4daa3f2-948f-4afc-a729-718430bb6bb9",
   "metadata": {},
   "outputs": [],
   "source": [
    "box.reset_index()"
   ]
  },
  {
   "cell_type": "code",
   "execution_count": null,
   "id": "f8551188-ba01-4ed1-ac4d-008b086c5fa5",
   "metadata": {},
   "outputs": [],
   "source": [
    "box.reset_index().melt(id_vars='index')"
   ]
  },
  {
   "cell_type": "code",
   "execution_count": null,
   "id": "33e0f3f6-2d40-4261-abd1-3ea5c2bf0c18",
   "metadata": {},
   "outputs": [],
   "source": [
    "box.melt(ignore_index=False).reset_index()"
   ]
  },
  {
   "cell_type": "code",
   "execution_count": null,
   "id": "3a07b9f5-10f8-425e-8957-f7d4234dceb2",
   "metadata": {},
   "outputs": [],
   "source": [
    "longform = box.melt(ignore_index=False).reset_index()\n",
    "longform"
   ]
  },
  {
   "cell_type": "code",
   "execution_count": null,
   "id": "6bf24df9-a918-41c2-b609-78a33bb6a241",
   "metadata": {},
   "outputs": [],
   "source": [
    "longform.columns = ['Row', 'Column', 'Sample ID']\n",
    "longform['Row'] += 1\n",
    "longform['Column'] += 1\n",
    "longform.head()"
   ]
  },
  {
   "cell_type": "code",
   "execution_count": null,
   "id": "185e8af3-6dd1-4727-8f0b-c1e26587cc82",
   "metadata": {},
   "outputs": [],
   "source": [
    "box_indexed = pd.read_excel('data/box.xlsx', sheet_name = 'Box1 (labeled)')\n",
    "box_indexed.head()"
   ]
  },
  {
   "cell_type": "code",
   "execution_count": null,
   "id": "d4cfb5d2-a46a-4523-aedb-cd7dea4b7f95",
   "metadata": {},
   "outputs": [],
   "source": [
    "serum_box_10 = box_indexed.melt(id_vars='Serum Box 10').rename(columns={'Serum Box 10': 'Row', 'variable': 'Column', 'value': 'Sample ID'})\n",
    "serum_box_10.head()"
   ]
  },
  {
   "cell_type": "markdown",
   "id": "4dee573e-5778-46a7-b302-ff788bf3de3f",
   "metadata": {},
   "source": [
    "## Boldly reading from Wikipedia\n",
    "\n",
    "Take a look at this article:\n",
    "https://en.wikipedia.org/wiki/List_of_largest_cities\n",
    "\n",
    "Wikipedia can be a quick source of tables, and you can also get output in the form of html tables from a number of different online tools. However, they tend to be a little messier:"
   ]
  },
  {
   "cell_type": "code",
   "execution_count": null,
   "id": "2e4a6f51-8cd6-4d01-a33e-d4c7858a129d",
   "metadata": {},
   "outputs": [],
   "source": [
    "dfs = pd.read_html(\"https://en.wikipedia.org/wiki/List_of_largest_cities\")\n",
    "city_df = dfs[1]\n",
    "city_df.head()"
   ]
  },
  {
   "cell_type": "markdown",
   "id": "a6374146-8320-4adf-b8c3-6f16a512421f",
   "metadata": {},
   "source": [
    "You can see that this has two levels of columns, they're named a littile strangely, it seems to have pulled in the citations and footnotes in brackets, and it starts with a totally empty row. All of this requires some degree of cleaning, but just avoiding the copy and paste step can be kind of nice."
   ]
  },
  {
   "cell_type": "code",
   "execution_count": null,
   "id": "f74c1eb5-335a-483a-b212-5b3dc62c384b",
   "metadata": {},
   "outputs": [],
   "source": [
    "city_df.columns = city_df.columns.map(' | '.join)\n",
    "city_df = city_df.dropna(how='all')\n",
    "city_df.head()"
   ]
  },
  {
   "cell_type": "markdown",
   "id": "30b18ddc-c8e6-4c98-88a4-16e5f7f6fb0a",
   "metadata": {},
   "source": [
    "Column names are a little weird, but at least we have just one row of columns. You can copy and paste the column names directly from the output into your code:"
   ]
  },
  {
   "cell_type": "code",
   "execution_count": null,
   "id": "576dce5f-84b8-43d8-8ce4-adc38e9c9e26",
   "metadata": {},
   "outputs": [],
   "source": [
    "city_df = city_df.set_index('City[a] | City[a]')\n",
    "city_df"
   ]
  },
  {
   "cell_type": "markdown",
   "id": "c70f2a35-e49d-4612-b053-d69a3437a2db",
   "metadata": {},
   "source": [
    "Any time you have a column with all unique values, you can use them as an index. This lets you do very quick lookups:"
   ]
  },
  {
   "cell_type": "code",
   "execution_count": null,
   "id": "732a1703-3817-4d57-a237-e40a5c6ab212",
   "metadata": {},
   "outputs": [],
   "source": [
    "city_df.loc['Manila', :]"
   ]
  },
  {
   "cell_type": "markdown",
   "id": "41dce456-35a6-41c4-a0e7-ee2f7dee831a",
   "metadata": {},
   "source": [
    "And you can also grab multiple cities:"
   ]
  },
  {
   "cell_type": "code",
   "execution_count": null,
   "id": "a4874151-4a3a-4ff5-93d5-649383b1aa06",
   "metadata": {},
   "outputs": [],
   "source": [
    "city_df.loc[['Delhi', 'Manila', 'Yangon'], :]"
   ]
  },
  {
   "cell_type": "markdown",
   "id": "c5960aa6-ab88-446a-bf5f-8d2c8a116560",
   "metadata": {},
   "source": [
    "These aren't exactly meaningful statistics, but they are quick! Any time you're using a lot of functions, it can help readability to put them on their own line. In Python, in order to stop the interpreter from complaining you have to wrap the whole expression in an extra set of parentheses:"
   ]
  },
  {
   "cell_type": "code",
   "execution_count": null,
   "id": "7180cadc-70f9-436b-b2cc-7c956e04d5fd",
   "metadata": {},
   "outputs": [],
   "source": [
    "(city_df.groupby('Country | Country')\n",
    "        .agg(['count', 'mean', 'median'])\n",
    "        .sort_values(by=('UN 2018 population estimates[b] | UN 2018 population estimates[b]', 'count'), ascending=False)\n",
    "        .head())"
   ]
  },
  {
   "cell_type": "code",
   "execution_count": null,
   "id": "8a0b0bb4-e6ad-454b-855f-8293ccba3f14",
   "metadata": {},
   "outputs": [],
   "source": [
    "# You can politely ignore this data cleaning\n",
    "plot_df = city_df[(city_df['Urban area[8] | Area(km2)'] != '—')].loc[:, ['Urban area[8] | Area(km2)', 'Urban area[8] | Population']].astype(float)\n",
    "# This is a neat renaming\n",
    "plot_df.columns = ['Area(km2)', 'Population']\n",
    "sns.scatterplot(data=plot_df, x='Area(km2)', y='Population')\n",
    "plt.show()\n",
    "print()\n",
    "print(\"What's the outlier?\")\n",
    "print()\n",
    "print(plot_df[plot_df['Area(km2)'] > 10000])\n",
    "print()\n",
    "print(\"It was us! Filter it out:\")\n",
    "print()\n",
    "sns.scatterplot(data=plot_df[plot_df['Area(km2)'] < 10000], x='Area(km2)', y='Population')\n",
    "plt.show()\n",
    "sns.regplot(data=plot_df[plot_df['Area(km2)'] < 10000], x='Area(km2)', y='Population')\n",
    "plt.show()"
   ]
  },
  {
   "cell_type": "code",
   "execution_count": null,
   "id": "263b4c78-b110-48af-94c5-40af0d6e36e0",
   "metadata": {},
   "outputs": [],
   "source": []
  }
 ],
 "metadata": {
  "kernelspec": {
   "display_name": "Python 3 (ipykernel)",
   "language": "python",
   "name": "python3"
  },
  "language_info": {
   "codemirror_mode": {
    "name": "ipython",
    "version": 3
   },
   "file_extension": ".py",
   "mimetype": "text/x-python",
   "name": "python",
   "nbconvert_exporter": "python",
   "pygments_lexer": "ipython3",
   "version": "3.8.12"
  }
 },
 "nbformat": 4,
 "nbformat_minor": 5
}
