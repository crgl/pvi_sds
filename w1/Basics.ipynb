{
 "cells": [
  {
   "cell_type": "markdown",
   "id": "7db4e8c1-fbf3-4b47-9e5a-6b4498ee525c",
   "metadata": {},
   "source": [
    "# Python basics"
   ]
  },
  {
   "cell_type": "markdown",
   "id": "5a139fbe-0883-42d6-81a2-348ca55e93c6",
   "metadata": {
    "tags": []
   },
   "source": [
    "### Notebook structure\n",
    "A Jupyter notebook is made up of cells (more or less, boxes to type in). There are two types of cells: Markdown and code. This is a Markdown cell. It's just a way to ***format*** text and put notes (or instructions) wherever they're most helpful. Code cells (in this case) will run Python, and they will have some sort of output. This makes them a nice visual way of working on things.\n",
    "### Cell operations\n",
    "- Click on a cell to type in it.\n",
    "- Hold shift and press enter while inside the cell to run the code inside or render the markdown .\n",
    "- Add a new cell by hitting the \"+\" button on the top. If you run the last cell in a notebook, it will add a new cell automatically\n",
    "- In that top bar, there are also cut, copy, and paste keys. If you click to the left, you can highlight the whole cell and use those buttons to duplicate or remove cells"
   ]
  },
  {
   "cell_type": "code",
   "execution_count": null,
   "id": "2c495cd5-fced-4b79-91dd-c4fcbfa9a21b",
   "metadata": {},
   "outputs": [],
   "source": [
    "# This is a code cell. Everything here is being interpreted by python,\n",
    "# so if you want to write a quick note you need to start each line with a \"#\" symbol\n",
    "# Everything after a hashtag is considered a comment and ignored\n",
    "\n",
    "\"\"\"\n",
    "A long note can go between three quotation marks (' or \" doesn't matter).\n",
    "This is less useful in Jupyter notebooks: just write in Markdown.\n",
    "It will still show up in the exercises because it can go in functions themselves\n",
    "\"\"\"\n",
    "\n",
    "1 # Comments don't have to be on their own line, and Python knows what numbers are\n",
    "# You can uncomment a line by deleting the hashtag or by pressing ctrl + /\n",
    "# You can uncomment or comment out several lines by highlighting all of them and pressing ctrl + /\n",
    "# There is commented code in this notebook. Uncomment it when you want to change and run it"
   ]
  },
  {
   "cell_type": "code",
   "execution_count": null,
   "id": "a1936796-f6cd-4645-917c-383a78e6803c",
   "metadata": {},
   "outputs": [],
   "source": [
    "# Python has a function called `print` that makes the usual first step when learning a coding language straightforward\n",
    "# It works like this\n",
    "print(\"It begins!\")"
   ]
  },
  {
   "cell_type": "markdown",
   "id": "7cb48f4d-6075-440b-b04c-e5c9a846dee7",
   "metadata": {
    "tags": []
   },
   "source": [
    "## Hello World"
   ]
  },
  {
   "cell_type": "markdown",
   "id": "56dbcded-a5ab-4705-952c-3b691f529705",
   "metadata": {},
   "source": [
    "Print \"Hello, World!\" using a code cell below"
   ]
  },
  {
   "cell_type": "code",
   "execution_count": null,
   "id": "0f8304b5-33bb-4e67-9b6f-0fafe42bbf30",
   "metadata": {},
   "outputs": [],
   "source": []
  },
  {
   "cell_type": "markdown",
   "id": "bfbe0394-75f6-4937-a656-cd3f159b734d",
   "metadata": {},
   "source": [
    "### Interpreting text\n",
    "Python converts the text that you type into code. Specifically, Python knows about:\n",
    "- Numbers. Integers or ints (1, 7, etc) and decimal numbers or floats (1.1, 2.7, etc)\n",
    "- Strings. Anything you put in single or double quotes gets left as text (\"hey\", \"hello\", etc)\n",
    "- Operators (+, -, /, \\*, <). Python can do basic math for free\n",
    "- Key words. We just used print, there are a few more that come with python (if, for, def, etc.)\n",
    "- Variables you define. If you type text without quotes around it, it has to be either predefined or defined by you\n",
    " - You define a variable with \"=\". \"x = 1\" means \"set x to 1\""
   ]
  },
  {
   "cell_type": "markdown",
   "id": "e1b0fbdf-6205-4d23-a796-b3de9a5f63e9",
   "metadata": {},
   "source": [
    "## Defining functions"
   ]
  },
  {
   "cell_type": "markdown",
   "id": "8fee32e3-e9ac-4943-a6e4-c98806641b7c",
   "metadata": {},
   "source": [
    "Functions in programs are not quite the same as functions in math (although the naming is intentional). A function is a reusable block of code: if you find yourself doing the same thing more than once, it usually belongs in a function. In Python, functions are defined in the following format:\n",
    "```\n",
    "def add(x, y):\n",
    "    return x + y\n",
    "```\n",
    "Jupyter will make the colors nice for you when this is in a code cell. A few notes here:\n",
    "- Python functions always look roughly like this.\n",
    "    - def stands for define\n",
    "    - add is the name of the function\n",
    "    - The things between the parentheses are the arguments. Functions can have 0 or 1 or 25 arguments\n",
    "    - You need the colon\n",
    "    - Everything after the colon in the function has to be indented\n",
    "    - If there's a \"return\", everything after the return is the function output. Not all functions have output\n",
    "- The above function returns the sum of the two arguments\n",
    "\n",
    "```\n",
    "def print_sum(x, y):\n",
    "    print(x + y)\n",
    "```\n",
    "\n",
    "- The above function prints the sum of the two arguments and doesn't return anything\n",
    "\n",
    "```\n",
    "def print_two():\n",
    "    print(2)\n",
    "```\n",
    "\n",
    "- The above function prints the number 2. It has no arguments and doesn't return anything"
   ]
  },
  {
   "cell_type": "code",
   "execution_count": null,
   "id": "1747cd18-a6eb-444a-8707-dd9f11e39d40",
   "metadata": {},
   "outputs": [],
   "source": [
    "def hello():\n",
    "    # TODO: have this function print \"Hello, World!\" when called\n",
    "    pass"
   ]
  },
  {
   "cell_type": "code",
   "execution_count": null,
   "id": "aa6528df-3d7d-4086-a53a-ed55038a034f",
   "metadata": {},
   "outputs": [],
   "source": [
    "hello()"
   ]
  },
  {
   "cell_type": "code",
   "execution_count": null,
   "id": "e3723638-1eb0-4f4e-a8ae-8717b33543f9",
   "metadata": {},
   "outputs": [],
   "source": [
    "def hello_to(name):\n",
    "    print(\"Hello,\", name)"
   ]
  },
  {
   "cell_type": "code",
   "execution_count": null,
   "id": "c40f5bb6-ed5e-41b4-9e42-6ecc28f059a3",
   "metadata": {},
   "outputs": [],
   "source": [
    "# TODO: use the \"hello_to\" function to greet someone"
   ]
  },
  {
   "cell_type": "markdown",
   "id": "77c4a16f-db94-47e0-bb6d-8dea1867b604",
   "metadata": {},
   "source": [
    "## Control Flow\n",
    "There are two main things to be concerned about here: conditionals and loops. Conditionals should be familiar from Excel:"
   ]
  },
  {
   "cell_type": "code",
   "execution_count": null,
   "id": "0705a462-8bcd-4964-97bf-dbb7b416e510",
   "metadata": {},
   "outputs": [],
   "source": [
    "x = 1\n",
    "if x < 0:\n",
    "    print(\"Negative\")\n",
    "else:\n",
    "    print(\"Not Negative\")"
   ]
  },
  {
   "cell_type": "markdown",
   "id": "627cc375-b282-48b2-8628-91a67c7c35f3",
   "metadata": {},
   "source": [
    "The major difference here is that chaining multiple conditionals is easier (but looks different). Really numbers can be positive, negative, or 0, so we could instead do:"
   ]
  },
  {
   "cell_type": "code",
   "execution_count": null,
   "id": "19e7adf1-777e-4f9d-bfeb-92d99b205fee",
   "metadata": {},
   "outputs": [],
   "source": [
    "x = 2\n",
    "if x < 0:\n",
    "    print(\"Negative\")\n",
    "elif x == 0: # \"elif\" is short for \"else if\". Every language does this slightly differently.\n",
    "    print(\"Zero\")\n",
    "else:\n",
    "    print(\"Positive\")"
   ]
  },
  {
   "cell_type": "markdown",
   "id": "43776fb1-16ed-4d76-9029-ee6570f83dca",
   "metadata": {},
   "source": [
    "Just for practice, write a function below that takes a number and returns the absolute value of that number:"
   ]
  },
  {
   "cell_type": "code",
   "execution_count": null,
   "id": "77feabc5-bdb0-4e35-a19b-a58131453712",
   "metadata": {},
   "outputs": [],
   "source": [
    "def abs_val(n):\n",
    "    pass"
   ]
  },
  {
   "cell_type": "markdown",
   "id": "853a5432-08fe-4f2b-a254-7f1e005bf1f0",
   "metadata": {},
   "source": [
    "If everything worked, you should be able to run the cell below without an error"
   ]
  },
  {
   "cell_type": "code",
   "execution_count": null,
   "id": "c7d177a9-6cb0-4ffa-81fe-ea560a387635",
   "metadata": {},
   "outputs": [],
   "source": [
    "assert abs_val(5) == 5\n",
    "assert abs_val(0) == 0\n",
    "assert abs_val(-5) == 5"
   ]
  },
  {
   "cell_type": "markdown",
   "id": "7f0be73c-a1b9-4870-a15a-e37a00eba187",
   "metadata": {},
   "source": [
    "#### Loops\n",
    "Loops, like everything else, are there to help you avoid repeating yourself. In Python, they sort of read correctly out loud:"
   ]
  },
  {
   "cell_type": "code",
   "execution_count": null,
   "id": "c9a23dd4-bb60-4af9-b200-3c54e682a59f",
   "metadata": {},
   "outputs": [],
   "source": [
    "for x in range(5):\n",
    "    print(x)"
   ]
  },
  {
   "cell_type": "markdown",
   "id": "dead3983-3e0e-4eb5-ada7-b5d23f17b301",
   "metadata": {},
   "source": [
    "Of course, that's not necessarily exactly what you expected (ranges start at 0 and they stop one before the number in parentheses by default), but it's pretty close. Like with `if` statements, `for` statements involve colons and tabs. Python is more or less the only language that cares about whitespace, but it does help in making things readable. You can also iterate through lists of strings or numbers:"
   ]
  },
  {
   "cell_type": "code",
   "execution_count": null,
   "id": "b0de1fd4-3b72-4efc-8abe-41c436a3cba3",
   "metadata": {},
   "outputs": [],
   "source": [
    "fruits = ['apple', 'pear', 'banana']\n",
    "print(\"Fruit!\")\n",
    "for fruit in fruits:\n",
    "    print(fruit)\n",
    "print()\n",
    "\n",
    "print(\"Countdown:\")\n",
    "blastoff = [5, 4, 3, 2, 1, \"!!!\"]\n",
    "for count in blastoff:\n",
    "    print(count)"
   ]
  },
  {
   "cell_type": "markdown",
   "id": "e73ac038-bad0-4209-85d6-d07a0bb59480",
   "metadata": {},
   "source": [
    "Lists are in square brackets, separated by commas. They don't have to contain all numbers or all strings (see: blastoff), but it's generally good practice. You can also make lists with a loop:"
   ]
  },
  {
   "cell_type": "code",
   "execution_count": null,
   "id": "ef7fbd69-2bc3-48d1-97d6-1f05e1e0e699",
   "metadata": {},
   "outputs": [],
   "source": [
    "nums = []\n",
    "for num in range(5):\n",
    "    nums.append(num)\n",
    "print(nums)"
   ]
  },
  {
   "cell_type": "markdown",
   "id": "c7367078-d7b5-41aa-81b6-c579fa60e491",
   "metadata": {},
   "source": [
    "This sort of syntax ( variable.function() ) is very common in Python. The functions used this way are called methods, and there are quite a few to learn in the commonly used libraries.\n",
    "\n",
    "One last note: if you want to look at (or change) just one element in a list, you can index into the list and get the first or the last or the fifth element. Python uses 0-based indexing, so the first element is element 0"
   ]
  },
  {
   "cell_type": "code",
   "execution_count": null,
   "id": "d23feb38-6121-40ec-9b54-cc3ceddae1c0",
   "metadata": {},
   "outputs": [],
   "source": [
    "fruits = ['apple', 'pear', 'banana']\n",
    "print(fruits[0])\n",
    "print(fruits)\n",
    "fruits[1] = 'kumquat'\n",
    "print(fruits)"
   ]
  },
  {
   "cell_type": "markdown",
   "id": "80e49dfc-53ab-47d5-a7a0-46e89c503cbb",
   "metadata": {},
   "source": [
    "You can also index from the last element with negative numbers (the last is -1, the second to last is -2, etc.)"
   ]
  },
  {
   "cell_type": "code",
   "execution_count": null,
   "id": "50c37118-c9cc-4f0b-8621-794bc02bbaa3",
   "metadata": {},
   "outputs": [],
   "source": [
    "fruits[-1]"
   ]
  },
  {
   "cell_type": "markdown",
   "id": "8fd820e3-a3d0-4547-9ba9-70668fa391ad",
   "metadata": {},
   "source": [
    "## Importing\n",
    "\n",
    "You don't have to write every function yourself. To take advantage of the work other people have done, you can import libraries of code. Import statements look like this:"
   ]
  },
  {
   "cell_type": "code",
   "execution_count": null,
   "id": "3eaaf840-893a-4610-9ac6-25fb271f8a7d",
   "metadata": {},
   "outputs": [],
   "source": [
    "import numpy"
   ]
  },
  {
   "cell_type": "markdown",
   "id": "eba7ea7e-1576-45b3-b2dd-91fd4846ff87",
   "metadata": {},
   "source": [
    "Once you've done that, you can use functions from that library as below (abs is the absolute value function):"
   ]
  },
  {
   "cell_type": "code",
   "execution_count": null,
   "id": "519ef33a-b157-4c79-a562-9f3dc57c8b9d",
   "metadata": {},
   "outputs": [],
   "source": [
    "numpy.abs(-5)"
   ]
  },
  {
   "cell_type": "markdown",
   "id": "87033a4d-f547-4b15-b4c1-f255d45be978",
   "metadata": {},
   "source": [
    "Any function inside the numpy library gets prefaced with \"numpy.\" This is convenient, in that you won't accidentally change the meanings of your own functions, but also kind of annoying to type. That's why you will often see abbreviations, such as below:"
   ]
  },
  {
   "cell_type": "code",
   "execution_count": null,
   "id": "7ef6fdf9-99f5-4e7b-93ff-afc9dda6b736",
   "metadata": {},
   "outputs": [],
   "source": [
    "import numpy as np\n",
    "np.abs(-5)"
   ]
  },
  {
   "cell_type": "markdown",
   "id": "9b1a27fb-0376-4a04-a5c9-d01054abde09",
   "metadata": {
    "tags": []
   },
   "source": [
    "## Practice\n",
    "Delete \"pass\" and write in your functions\n",
    "\n",
    "Uncomment the assertions to test your code\n",
    "\n",
    "You might want this:\n",
    "\n",
    "https://docs.python.org/3/"
   ]
  },
  {
   "cell_type": "code",
   "execution_count": null,
   "id": "d42ba1ea-ed6e-4c84-a8e2-5b81e3d762b7",
   "metadata": {},
   "outputs": [],
   "source": [
    "def square(n):\n",
    "    '''\n",
    "    Takes a number as input and returns the square\n",
    "    '''\n",
    "    pass"
   ]
  },
  {
   "cell_type": "code",
   "execution_count": null,
   "id": "be24d609-8253-4dff-ac7b-1e83dc2dbdc8",
   "metadata": {},
   "outputs": [],
   "source": [
    "# assert square(1) == 1\n",
    "# assert square(15) == 225\n",
    "# assert square(-9) == 81\n",
    "# print(\"Seems good!\")"
   ]
  },
  {
   "cell_type": "code",
   "execution_count": null,
   "id": "309a9082-1e7e-423a-b643-8f0ea2a38447",
   "metadata": {},
   "outputs": [],
   "source": [
    "def add_numbers(l):\n",
    "    '''\n",
    "    Takes a list of numbers as input. Returns the sum of every number in the list\n",
    "    '''\n",
    "    pass"
   ]
  },
  {
   "cell_type": "code",
   "execution_count": null,
   "id": "d1b076e2-0214-4a30-a828-c8caa627f0e1",
   "metadata": {},
   "outputs": [],
   "source": [
    "# assert add_numbers([0, 1, 2]) == 3\n",
    "# assert add_numbers([0]) == 0\n",
    "# assert add_numbers([-1]) == -1\n",
    "# assert add_numbers([-1, 1, -1, 1, -2, 2, 3, 4]) == 7\n",
    "# print(\"Seems good!\")"
   ]
  },
  {
   "cell_type": "code",
   "execution_count": null,
   "id": "5163c1b2-1405-462d-ad94-b83239b519dc",
   "metadata": {},
   "outputs": [],
   "source": [
    "def find_max(l):\n",
    "    '''\n",
    "    Takes a list of numbers as input. Returns the largest number in the list\n",
    "    '''\n",
    "    pass"
   ]
  },
  {
   "cell_type": "code",
   "execution_count": null,
   "id": "e399a7b3-da52-45d3-ab33-4b16a627af03",
   "metadata": {},
   "outputs": [],
   "source": [
    "# assert find_max([0, 1, 2]) == 2\n",
    "# assert find_max([0]) == 0\n",
    "# assert find_max([-1]) == -1\n",
    "# assert find_max([-1, 1, -1, 1, -2, 2, 3, 4]) == 4\n",
    "# print(\"Seems good!\")"
   ]
  },
  {
   "cell_type": "code",
   "execution_count": null,
   "id": "1811db4c-8357-4df4-83c9-d731f896593a",
   "metadata": {},
   "outputs": [],
   "source": [
    "def count_drops(l):\n",
    "    '''\n",
    "    Takes a list of numbers as input. Returns the count of numbers less than the number immediately before them in the list\n",
    "    '''\n",
    "    pass"
   ]
  },
  {
   "cell_type": "code",
   "execution_count": null,
   "id": "d584849a-717b-4e3e-9430-ebbdcdb3360e",
   "metadata": {},
   "outputs": [],
   "source": [
    "# assert count_drops([0, 1, 2]) == 0\n",
    "# assert count_drops([0]) == 0\n",
    "# assert count_drops([-1]) == 0\n",
    "# assert count_drops([-1, 1, -1, 1, -2, 2, 3, 4]) == 2\n",
    "# assert count_drops([1, 2, 3, 4, 1, 2, 3, -2, 5, -1, -2, -3, -4]) == 6\n",
    "# print(\"Seems good!\")"
   ]
  },
  {
   "cell_type": "code",
   "execution_count": null,
   "id": "7a649bc0-073c-4766-b1b9-7dd32146f548",
   "metadata": {},
   "outputs": [],
   "source": [
    "def fib(n):\n",
    "    '''\n",
    "    Takes a positive integer as input. Returns the nth fibonacci number (1,1,2,3,5,8,13...)\n",
    "    '''\n",
    "    pass"
   ]
  },
  {
   "cell_type": "code",
   "execution_count": null,
   "id": "817e1f6a-5c1e-49e7-b477-fd9a7b077d5c",
   "metadata": {},
   "outputs": [],
   "source": [
    "# assert fib(1) == 1\n",
    "# assert fib(10) == 55\n",
    "# assert fib(20) == 6765\n",
    "# print(\"Seems good!\")"
   ]
  },
  {
   "cell_type": "markdown",
   "id": "24eb1313-a400-43d2-8a2a-642f187f05a5",
   "metadata": {},
   "source": [
    "## Dictionaries\n",
    "\n",
    "These will come up in the next couple sessions. Dictionaries are key-value stores, they're called dictionaries because you use them to look things up. They use curly braces in Python"
   ]
  },
  {
   "cell_type": "code",
   "execution_count": null,
   "id": "6a2c7501-73b8-4cb1-a5e0-9d3300d3776b",
   "metadata": {},
   "outputs": [],
   "source": [
    "veggie_prices = {'Cabbage': 1, 'Pepper': 3, 'Cauliflower': 4}\n",
    "veggie_prices['Pepper']"
   ]
  },
  {
   "cell_type": "markdown",
   "id": "8b7e1f99-5134-465c-b18e-f09f50193dc4",
   "metadata": {},
   "source": [
    "You can create them with as many (or as few) entries in them as you like. You get the values out (which come after the colon) using square braces and the name of the key (before the colon). You can also add items:"
   ]
  },
  {
   "cell_type": "code",
   "execution_count": null,
   "id": "3a4ff074-3445-4248-a1f7-df4759de5d73",
   "metadata": {},
   "outputs": [],
   "source": [
    "veggie_prices['Kiwi'] = 3.99"
   ]
  },
  {
   "cell_type": "markdown",
   "id": "8ec982b4-e8af-4eb3-822e-90c7de95a356",
   "metadata": {},
   "source": [
    "You can loop through these as well"
   ]
  },
  {
   "cell_type": "code",
   "execution_count": null,
   "id": "b60cb46c-b020-4e56-8800-0f8f72ed76c8",
   "metadata": {},
   "outputs": [],
   "source": [
    "for key, val in veggie_prices.items():\n",
    "    print(key, val)"
   ]
  },
  {
   "cell_type": "markdown",
   "id": "7657c788-ecde-4264-a050-b3d829f9eaa9",
   "metadata": {},
   "source": [
    "## More Practice"
   ]
  },
  {
   "cell_type": "markdown",
   "id": "b1146515-0fec-41cd-8aa2-888b2d28a012",
   "metadata": {},
   "source": [
    "#### Find the sum of all the multiples of 3 or 5 below 1000."
   ]
  },
  {
   "cell_type": "code",
   "execution_count": null,
   "id": "bf2af486-ae83-429d-a56b-da4d64b2b132",
   "metadata": {},
   "outputs": [],
   "source": [
    "def multiple_sum():\n",
    "    pass"
   ]
  },
  {
   "cell_type": "code",
   "execution_count": null,
   "id": "3a9ee37d-d025-4003-ac06-658d9ee83bac",
   "metadata": {},
   "outputs": [],
   "source": [
    "# assert multiple_sum() == 233168\n",
    "# print(\"I agree!\")"
   ]
  },
  {
   "cell_type": "markdown",
   "id": "c6164e01-4bd5-40cd-bd15-295366b408cd",
   "metadata": {},
   "source": [
    "#### What is the smallest positive number that is evenly divisible by all of the numbers from 1 to 20?"
   ]
  },
  {
   "cell_type": "code",
   "execution_count": null,
   "id": "a26868de-b31c-4395-ad25-6d32c73b6e50",
   "metadata": {},
   "outputs": [],
   "source": [
    "def smallest_multiple():\n",
    "    pass"
   ]
  },
  {
   "cell_type": "code",
   "execution_count": null,
   "id": "a4ba9bef-62fb-42fd-8e07-6bfbd3972b2b",
   "metadata": {},
   "outputs": [],
   "source": [
    "# ans = smallest_multiple()\n",
    "# for denom in range(2,21):\n",
    "#     assert denom * (ans // denom) == ans\n",
    "# for denom in range(2,21):\n",
    "#     assert denom * (ans // denom ** 2) != ans\n",
    "# print(\"Seems good!\")"
   ]
  },
  {
   "cell_type": "markdown",
   "id": "fd519eae-476c-4b03-9aa3-7c7af554d71d",
   "metadata": {},
   "source": [
    "#### Find the difference between the sum of the squares of the first one hundred natural numbers and the square of the sum."
   ]
  },
  {
   "cell_type": "code",
   "execution_count": null,
   "id": "d41d8a79-f95a-4549-b722-1234c74c2e42",
   "metadata": {},
   "outputs": [],
   "source": [
    "def sum_diff():\n",
    "    pass"
   ]
  },
  {
   "cell_type": "code",
   "execution_count": null,
   "id": "d786f999-e851-4a83-90e1-00ba72eaec07",
   "metadata": {},
   "outputs": [],
   "source": [
    "# assert sum_diff() == 25164150\n",
    "# print(\"Yep!\")"
   ]
  },
  {
   "cell_type": "code",
   "execution_count": null,
   "id": "bb859634-cf75-414d-a17c-2000aaec29b6",
   "metadata": {},
   "outputs": [],
   "source": []
  }
 ],
 "metadata": {
  "kernelspec": {
   "display_name": "Python 3 (ipykernel)",
   "language": "python",
   "name": "python3"
  },
  "language_info": {
   "codemirror_mode": {
    "name": "ipython",
    "version": 3
   },
   "file_extension": ".py",
   "mimetype": "text/x-python",
   "name": "python",
   "nbconvert_exporter": "python",
   "pygments_lexer": "ipython3",
   "version": "3.8.12"
  }
 },
 "nbformat": 4,
 "nbformat_minor": 5
}
